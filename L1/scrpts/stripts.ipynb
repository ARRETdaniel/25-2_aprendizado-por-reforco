{
 "cells": [
  {
   "cell_type": "code",
   "execution_count": 1,
   "id": "0b7f7f78",
   "metadata": {},
   "outputs": [
    {
     "name": "stdout",
     "output_type": "stream",
     "text": [
      "Collecting PyPDF2\n",
      "  Downloading pypdf2-3.0.1-py3-none-any.whl.metadata (6.8 kB)\n",
      "Downloading pypdf2-3.0.1-py3-none-any.whl (232 kB)\n",
      "Installing collected packages: PyPDF2\n",
      "Successfully installed PyPDF2-3.0.1\n",
      "Note: you may need to restart the kernel to use updated packages.\n"
     ]
    }
   ],
   "source": [
    "%pip install PyPDF2"
   ]
  },
  {
   "cell_type": "code",
   "execution_count": 1,
   "id": "0df37cb1",
   "metadata": {},
   "outputs": [
    {
     "name": "stdout",
     "output_type": "stream",
     "text": [
      "📄 Reading 26 pages from '/media/danielterra/Windows-SSD/Users/danie/Documents/Documents/MESTRADO/25-2_aprendizado-por-reforco/aulas/Aula 5 - Programação Dinâmica.pdf'...\n",
      "✅ Success! All text has been saved to 'Aula_5_conteudo_completo.txt'.\n"
     ]
    }
   ],
   "source": [
    "import PyPDF2\n",
    "import os\n",
    "\n",
    "def combine_pdf_text_to_single_file(pdf_path, output_txt_path):\n",
    "    \"\"\"\n",
    "    Extracts text from all pages of a PDF and saves it into a single .txt file,\n",
    "    with separators between pages for better readability.\n",
    "\n",
    "    Args:\n",
    "        pdf_path (str): The path to the input PDF file.\n",
    "        output_txt_path (str): The path for the final output .txt file.\n",
    "    \"\"\"\n",
    "    # First, check if the PDF file exists in the folder\n",
    "    if not os.path.exists(pdf_path):\n",
    "        print(f\"Error: The file '{pdf_path}' was not found. Make sure it's in the same folder as the script.\")\n",
    "        return\n",
    "\n",
    "    # A list to hold the text from each page\n",
    "    all_pages_text = []\n",
    "\n",
    "    try:\n",
    "        # Open the PDF file in binary read mode\n",
    "        with open(pdf_path, 'rb') as file:\n",
    "            pdf_reader = PyPDF2.PdfReader(file)\n",
    "            num_pages = len(pdf_reader.pages)\n",
    "            print(f\"📄 Reading {num_pages} pages from '{pdf_path}'...\")\n",
    "\n",
    "            # Loop through all the pages and extract their text\n",
    "            for page_num in range(num_pages):\n",
    "                page = pdf_reader.pages[page_num]\n",
    "                text = page.extract_text()\n",
    "\n",
    "                # Add a separator to know where a new page begins\n",
    "                all_pages_text.append(f\"--- PAGE {page_num + 1} ---\\n\")\n",
    "\n",
    "                if text:\n",
    "                    all_pages_text.append(text.strip())\n",
    "                else:\n",
    "                    all_pages_text.append(\"[No text could be extracted from this page]\")\n",
    "\n",
    "                # Add space between pages\n",
    "                all_pages_text.append(\"\\n\\n\")\n",
    "\n",
    "        # Join all the collected text into one string\n",
    "        full_content = \"\".join(all_pages_text)\n",
    "\n",
    "        # Write the entire string to the output text file\n",
    "        with open(output_txt_path, 'w', encoding='utf-8') as txt_file:\n",
    "            txt_file.write(full_content)\n",
    "\n",
    "        print(f\"✅ Success! All text has been saved to '{output_txt_path}'.\")\n",
    "\n",
    "    except Exception as e:\n",
    "        print(f\"An unexpected error occurred: {e}\")\n",
    "\n",
    "# --- Main execution block ---\n",
    "if __name__ == \"__main__\":\n",
    "    # The name of the PDF file you provided\n",
    "    pdf_input = \"/media/danielterra/Windows-SSD/Users/danie/Documents/Documents/MESTRADO/25-2_aprendizado-por-reforco/aulas/Aula 5 - Programação Dinâmica.pdf\"\n",
    "\n",
    "    # The name of the text file that will be created\n",
    "    txt_output = \"Aula_5_conteudo_completo.txt\"\n",
    "\n",
    "    combine_pdf_text_to_single_file(pdf_input, txt_output)"
   ]
  }
 ],
 "metadata": {
  "kernelspec": {
   "display_name": "rl-exercise",
   "language": "python",
   "name": "python3"
  },
  "language_info": {
   "codemirror_mode": {
    "name": "ipython",
    "version": 3
   },
   "file_extension": ".py",
   "mimetype": "text/x-python",
   "name": "python",
   "nbconvert_exporter": "python",
   "pygments_lexer": "ipython3",
   "version": "3.12.11"
  }
 },
 "nbformat": 4,
 "nbformat_minor": 5
}
